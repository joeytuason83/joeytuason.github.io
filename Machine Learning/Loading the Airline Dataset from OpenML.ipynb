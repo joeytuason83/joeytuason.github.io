{
 "cells": [
  {
   "attachments": {
    "image.png": {
     "image/png": "[encoded data removed]"
    }
   },
   "cell_type": "markdown",
   "id": "565b491e",
   "metadata": {},
   "source": [
    "# JSON AND ARFF OF AIRLINE DATA\n",
    "\n",
    "_by Joey Tuason_\n",
    "\n",
    "This python script will load the json description file of the airline dataset savedrom [OpenML](https://www.openml.org/search?type=data&sort=runs&status=active).\n",
    "\n",
    "![image.png](attachment:image.png) \n",
    "\n",
    "The json desciption file contains the url of the arff file that we will use to load the data.\n",
    "\n",
    "Source: https://www.openml.org/search?type=data&sort=qualities.NumberOfInstances&status=active&id=42728"
   ]
  },
  {
   "cell_type": "markdown",
   "id": "202813ef",
   "metadata": {
    "ExecuteTime": {
     "end_time": "2022-04-26T08:54:52.822941Z",
     "start_time": "2022-04-26T08:54:52.813914Z"
    }
   },
   "source": [
    "## Introduction\n",
    "\n",
    "In preparation for any data science class, it would be wise to have equipped available datasets and have an idea how they look like. For my current data visualization class this coming Saturday, April 30, most of my candidates would be from the OpenML website."
   ]
  },
  {
   "cell_type": "markdown",
   "id": "dcb4cd4f",
   "metadata": {},
   "source": [
    "## Methodology\n",
    "\n",
    "1. We look into datasets available in the OpenML site and download their descriptions, saved as JSON.\n",
    "2. Load the JSON files.\n",
    "3. Load the ARFF files using a package in scipy and get its info to have an assessment on which data preferred for the data visualization class."
   ]
  },
  {
   "cell_type": "markdown",
   "id": "477bca9d",
   "metadata": {},
   "source": [
    "## Load Libraries"
   ]
  },
  {
   "cell_type": "code",
   "execution_count": 1,
   "id": "e136fb20",
   "metadata": {
    "ExecuteTime": {
     "end_time": "2022-05-01T03:35:27.487314Z",
     "start_time": "2022-05-01T03:35:26.019629Z"
    }
   },
   "outputs": [],
   "source": [
    "from scipy.io import arff # package needed to load the arff file\n",
    "import urllib.request\n",
    "import io\n",
    "import pandas as pd"
   ]
  },
  {
   "cell_type": "markdown",
   "id": "5b28715d",
   "metadata": {},
   "source": [
    "## Load the Json File"
   ]
  },
  {
   "cell_type": "code",
   "execution_count": 2,
   "id": "2f14b64a",
   "metadata": {
    "ExecuteTime": {
     "end_time": "2022-05-01T03:35:27.519092Z",
     "start_time": "2022-05-01T03:35:27.489291Z"
    }
   },
   "outputs": [],
   "source": [
    "df = pd.read_json('42728.json')"
   ]
  },
  {
   "cell_type": "code",
   "execution_count": 3,
   "id": "727c17e4",
   "metadata": {
    "ExecuteTime": {
     "end_time": "2022-05-01T03:35:27.534421Z",
     "start_time": "2022-05-01T03:35:27.520130Z"
    }
   },
   "outputs": [
    {
     "data": {
      "text/html": [
       "<div>\n",
       "<style scoped>\n",
       "    .dataframe tbody tr th:only-of-type {\n",
       "        vertical-align: middle;\n",
       "    }\n",
       "\n",
       "    .dataframe tbody tr th {\n",
       "        vertical-align: top;\n",
       "    }\n",
       "\n",
       "    .dataframe thead th {\n",
       "        text-align: right;\n",
       "    }\n",
       "</style>\n",
       "<table border=\"1\" class=\"dataframe\">\n",
       "  <thead>\n",
       "    <tr style=\"text-align: right;\">\n",
       "      <th></th>\n",
       "      <th>data_set_description</th>\n",
       "    </tr>\n",
       "  </thead>\n",
       "  <tbody>\n",
       "    <tr>\n",
       "      <th>collection_date</th>\n",
       "      <td>2013</td>\n",
       "    </tr>\n",
       "    <tr>\n",
       "      <th>default_target_attribute</th>\n",
       "      <td>DepDelay</td>\n",
       "    </tr>\n",
       "    <tr>\n",
       "      <th>description</th>\n",
       "      <td>Airlines Departure Delay Prediction (Regressio...</td>\n",
       "    </tr>\n",
       "    <tr>\n",
       "      <th>description_version</th>\n",
       "      <td>1</td>\n",
       "    </tr>\n",
       "    <tr>\n",
       "      <th>file_id</th>\n",
       "      <td>22044760</td>\n",
       "    </tr>\n",
       "    <tr>\n",
       "      <th>format</th>\n",
       "      <td>ARFF</td>\n",
       "    </tr>\n",
       "    <tr>\n",
       "      <th>id</th>\n",
       "      <td>42728</td>\n",
       "    </tr>\n",
       "    <tr>\n",
       "      <th>licence</th>\n",
       "      <td>CC0</td>\n",
       "    </tr>\n",
       "    <tr>\n",
       "      <th>md5_checksum</th>\n",
       "      <td>ddf153767b728faa717c2ae0063c7987</td>\n",
       "    </tr>\n",
       "    <tr>\n",
       "      <th>minio_url</th>\n",
       "      <td>http://openml1.win.tue.nl/dataset42728/dataset...</td>\n",
       "    </tr>\n",
       "    <tr>\n",
       "      <th>name</th>\n",
       "      <td>Airlines_DepDelay_10M</td>\n",
       "    </tr>\n",
       "    <tr>\n",
       "      <th>original_data_url</th>\n",
       "      <td>http://www.transtats.bts.gov/</td>\n",
       "    </tr>\n",
       "    <tr>\n",
       "      <th>processing_date</th>\n",
       "      <td>2020-11-18 05:36:59</td>\n",
       "    </tr>\n",
       "    <tr>\n",
       "      <th>status</th>\n",
       "      <td>active</td>\n",
       "    </tr>\n",
       "    <tr>\n",
       "      <th>upload_date</th>\n",
       "      <td>2020-11-18T05:35:27</td>\n",
       "    </tr>\n",
       "    <tr>\n",
       "      <th>url</th>\n",
       "      <td>https://old.openml.org/data/v1/download/220447...</td>\n",
       "    </tr>\n",
       "    <tr>\n",
       "      <th>version</th>\n",
       "      <td>1</td>\n",
       "    </tr>\n",
       "    <tr>\n",
       "      <th>visibility</th>\n",
       "      <td>public</td>\n",
       "    </tr>\n",
       "  </tbody>\n",
       "</table>\n",
       "</div>"
      ],
      "text/plain": [
       "                                                       data_set_description\n",
       "collection_date                                                        2013\n",
       "default_target_attribute                                           DepDelay\n",
       "description               Airlines Departure Delay Prediction (Regressio...\n",
       "description_version                                                       1\n",
       "file_id                                                            22044760\n",
       "format                                                                 ARFF\n",
       "id                                                                    42728\n",
       "licence                                                                 CC0\n",
       "md5_checksum                               ddf153767b728faa717c2ae0063c7987\n",
       "minio_url                 http://openml1.win.tue.nl/dataset42728/dataset...\n",
       "name                                                  Airlines_DepDelay_10M\n",
       "original_data_url                             http://www.transtats.bts.gov/\n",
       "processing_date                                         2020-11-18 05:36:59\n",
       "status                                                               active\n",
       "upload_date                                             2020-11-18T05:35:27\n",
       "url                       https://old.openml.org/data/v1/download/220447...\n",
       "version                                                                   1\n",
       "visibility                                                           public"
      ]
     },
     "execution_count": 3,
     "metadata": {},
     "output_type": "execute_result"
    }
   ],
   "source": [
    "# check how it looks like\n",
    "df"
   ]
  },
  {
   "cell_type": "markdown",
   "id": "d38d28f5",
   "metadata": {},
   "source": [
    "## Load Dataset from URL"
   ]
  },
  {
   "cell_type": "code",
   "execution_count": 4,
   "id": "ef3a4996",
   "metadata": {
    "ExecuteTime": {
     "end_time": "2022-05-01T03:35:27.550541Z",
     "start_time": "2022-05-01T03:35:27.537646Z"
    }
   },
   "outputs": [
    {
     "data": {
      "text/plain": [
       "'https://old.openml.org/data/v1/download/22044760/Airlines_DepDelay_10M.arff'"
      ]
     },
     "execution_count": 4,
     "metadata": {},
     "output_type": "execute_result"
    }
   ],
   "source": [
    "# check the url\n",
    "url = df.loc['url','data_set_description']\n",
    "url"
   ]
  },
  {
   "cell_type": "code",
   "execution_count": 5,
   "id": "fa43d0c6",
   "metadata": {
    "ExecuteTime": {
     "end_time": "2022-05-01T03:39:21.021342Z",
     "start_time": "2022-05-01T03:35:27.551539Z"
    }
   },
   "outputs": [],
   "source": [
    "ftpstream = urllib.request.urlopen(url)\n",
    "data, meta = arff.loadarff(io.StringIO(ftpstream.read().decode('utf-8')))"
   ]
  },
  {
   "cell_type": "code",
   "execution_count": 6,
   "id": "24df5e85",
   "metadata": {
    "ExecuteTime": {
     "end_time": "2022-05-01T03:39:21.108328Z",
     "start_time": "2022-05-01T03:39:21.042659Z"
    }
   },
   "outputs": [
    {
     "data": {
      "text/plain": [
       "array([(  2., 10., 30., 5.,  900., 1152., b'AA', b'JFK', b'LAX', 2475.),\n",
       "       ( 12., 10.,  4., 7., 1300., 1535., b'AA', b'LAX', b'HNL', 2556.),\n",
       "       (  8., 10., 11., 7., 1300., 1535., b'AA', b'LAX', b'HNL', 2556.),\n",
       "       ...,\n",
       "       ( -6.,  7., 31., 3., 1050., 1332., b'YV', b'PNS', b'CLT',  488.),\n",
       "       ( 21.,  7., 31., 3., 1721., 1854., b'YV', b'PWM', b'ORD',  900.),\n",
       "       (-10.,  7., 31., 3.,  800.,  912., b'YV', b'TUS', b'PHX',  110.)],\n",
       "      dtype=[('DepDelay', '<f8'), ('Month', '<f8'), ('DayofMonth', '<f8'), ('DayOfWeek', '<f8'), ('CRSDepTime', '<f8'), ('CRSArrTime', '<f8'), ('UniqueCarrier', 'S6'), ('Origin', 'S3'), ('Dest', 'S3'), ('Distance', '<f8')])"
      ]
     },
     "execution_count": 6,
     "metadata": {},
     "output_type": "execute_result"
    }
   ],
   "source": [
    "data"
   ]
  },
  {
   "cell_type": "code",
   "execution_count": 7,
   "id": "7be59303",
   "metadata": {
    "ExecuteTime": {
     "end_time": "2022-05-01T03:39:21.123815Z",
     "start_time": "2022-05-01T03:39:21.109328Z"
    }
   },
   "outputs": [
    {
     "data": {
      "text/plain": [
       "Dataset: trainr_10M\n",
       "\tDepDelay's type is numeric\n",
       "\tMonth's type is numeric\n",
       "\tDayofMonth's type is numeric\n",
       "\tDayOfWeek's type is numeric\n",
       "\tCRSDepTime's type is numeric\n",
       "\tCRSArrTime's type is numeric\n",
       "\tUniqueCarrier's type is nominal, range is ('9E', 'AA', 'AS', 'B6', 'CO', 'DH', 'DL', 'EA', 'EV', 'F9', 'FL', 'HA', 'HP', 'KH', 'ML (1)', 'MQ', 'NW', 'OH', 'OO', 'PA (1)', 'PI', 'PS', 'TW', 'TZ', 'UA', 'US', 'VX', 'WN', 'XE', 'YV')\n",
       "\tOrigin's type is nominal, range is ('ABE', 'ABI', 'ABQ', 'ABR', 'ABY', 'ACK', 'ACT', 'ACV', 'ACY', 'ADK', 'ADQ', 'AEX', 'AGS', 'AKN', 'ALB', 'ALO', 'AMA', 'ANC', 'ANI', 'APF', 'APN', 'ART', 'ASE', 'ATL', 'ATW', 'AUS', 'AVL', 'AVP', 'AZA', 'AZO', 'BDL', 'BET', 'BFL', 'BGM', 'BGR', 'BHM', 'BIL', 'BIS', 'BJI', 'BKG', 'BLI', 'BMI', 'BNA', 'BOI', 'BOS', 'BPT', 'BQK', 'BQN', 'BRD', 'BRO', 'BRW', 'BTM', 'BTR', 'BTV', 'BUF', 'BUR', 'BWI', 'BZN', 'CAE', 'CAK', 'CCR', 'CDC', 'CDV', 'CEC', 'CHA', 'CHO', 'CHS', 'CIC', 'CID', 'CIU', 'CLD', 'CLE', 'CLL', 'CLT', 'CMH', 'CMI', 'CMX', 'COD', 'COS', 'COU', 'CPR', 'CRP', 'CRW', 'CSG', 'CVG', 'CWA', 'CYS', 'DAB', 'DAL', 'DAY', 'DBQ', 'DCA', 'DEN', 'DET', 'DFW', 'DHN', 'DIK', 'DLG', 'DLH', 'DRO', 'DRT', 'DSM', 'DTW', 'DUT', 'EAU', 'ECP', 'EFD', 'EGE', 'EKO', 'ELM', 'ELP', 'ERI', 'ESC', 'EUG', 'EVV', 'EWN', 'EWR', 'EYW', 'FAI', 'FAR', 'FAT', 'FAY', 'FCA', 'FLG', 'FLL', 'FLO', 'FNT', 'FOE', 'FSD', 'FSM', 'FWA', 'GCC', 'GCK', 'GCN', 'GEG', 'GFK', 'GGG', 'GJT', 'GNV', 'GPT', 'GRB', 'GRI', 'GRK', 'GRR', 'GSO', 'GSP', 'GST', 'GTF', 'GTR', 'GUC', 'GUM', 'HDN', 'HHH', 'HIB', 'HKY', 'HLN', 'HNL', 'HOB', 'HOU', 'HPN', 'HRL', 'HSV', 'HTS', 'HVN', 'IAD', 'IAH', 'ICT', 'IDA', 'ILE', 'ILG', 'ILM', 'IMT', 'IND', 'INL', 'IPL', 'ISN', 'ISO', 'ISP', 'ITH', 'ITO', 'IYK', 'JAC', 'JAN', 'JAX', 'JFK', 'JLN', 'JNU', 'KOA', 'KSM', 'KTN', 'LAN', 'LAR', 'LAS', 'LAW', 'LAX', 'LBB', 'LCH', 'LEX', 'LFT', 'LGA', 'LGB', 'LIH', 'LIT', 'LMT', 'LNK', 'LNY', 'LRD', 'LSE', 'LWB', 'LWS', 'LYH', 'MAF', 'MAZ', 'MBS', 'MCI', 'MCN', 'MCO', 'MDT', 'MDW', 'MEI', 'MEM', 'MFE', 'MFR', 'MGM', 'MHK', 'MHT', 'MIA', 'MIB', 'MKC', 'MKE', 'MKG', 'MKK', 'MLB', 'MLI', 'MLU', 'MMH', 'MOB', 'MOD', 'MOT', 'MQT', 'MRY', 'MSN', 'MSO', 'MSP', 'MSY', 'MTH', 'MTJ', 'MVY', 'MWH', 'MYR', 'OAJ', 'OAK', 'OGD', 'OGG', 'OKC', 'OMA', 'OME', 'ONT', 'ORD', 'ORF', 'ORH', 'OTH', 'OTZ', 'OXR', 'PAH', 'PBI', 'PDX', 'PFN', 'PHF', 'PHL', 'PHX', 'PIA', 'PIE', 'PIH', 'PIT', 'PLN', 'PMD', 'PNS', 'PPG', 'PSC', 'PSE', 'PSG', 'PSP', 'PUB', 'PVD', 'PWM', 'RAP', 'RDD', 'RDM', 'RDR', 'RDU', 'RFD', 'RHI', 'RIC', 'RKS', 'RNO', 'ROA', 'ROC', 'ROP', 'ROR', 'ROW', 'RST', 'RSW', 'SAF', 'SAN', 'SAT', 'SAV', 'SBA', 'SBN', 'SBP', 'SCC', 'SCE', 'SCK', 'SDF', 'SEA', 'SFO', 'SGF', 'SGU', 'SHD', 'SHV', 'SIT', 'SJC', 'SJT', 'SJU', 'SLC', 'SLE', 'SMF', 'SMX', 'SNA', 'SOP', 'SPI', 'SPN', 'SPS', 'SRQ', 'STL', 'STT', 'STX', 'SUN', 'SUX', 'SWF', 'SYR', 'TEX', 'TLH', 'TOL', 'TPA', 'TRI', 'TTN', 'TUL', 'TUP', 'TUS', 'TVC', 'TVL', 'TWF', 'TXK', 'TYR', 'TYS', 'UCA', 'UTM', 'VCT', 'VIS', 'VLD', 'VPS', 'WRG', 'WYS', 'XNA', 'YAK', 'YAP', 'YKM', 'YUM')\n",
       "\tDest's type is nominal, range is ('ABE', 'ABI', 'ABQ', 'ABR', 'ABY', 'ACK', 'ACT', 'ACV', 'ACY', 'ADK', 'ADQ', 'AEX', 'AGS', 'AKN', 'ALB', 'ALO', 'AMA', 'ANC', 'ANI', 'APF', 'APN', 'ART', 'ASE', 'ATL', 'ATW', 'AUS', 'AVL', 'AVP', 'AZA', 'AZO', 'BDL', 'BET', 'BFL', 'BGM', 'BGR', 'BHM', 'BIL', 'BIS', 'BJI', 'BKG', 'BLI', 'BMI', 'BNA', 'BOI', 'BOS', 'BPT', 'BQK', 'BQN', 'BRD', 'BRO', 'BRW', 'BTM', 'BTR', 'BTV', 'BUF', 'BUR', 'BWI', 'BZN', 'CAE', 'CAK', 'CCR', 'CDC', 'CDV', 'CEC', 'CHA', 'CHO', 'CHS', 'CIC', 'CID', 'CIU', 'CLD', 'CLE', 'CLL', 'CLT', 'CMH', 'CMI', 'CMX', 'COD', 'COS', 'COU', 'CPR', 'CRP', 'CRW', 'CSG', 'CVG', 'CWA', 'CYS', 'DAB', 'DAL', 'DAY', 'DBQ', 'DCA', 'DEN', 'DET', 'DFW', 'DHN', 'DIK', 'DLG', 'DLH', 'DRO', 'DRT', 'DSM', 'DTW', 'DUT', 'EAU', 'ECP', 'EFD', 'EGE', 'EKO', 'ELM', 'ELP', 'ERI', 'ESC', 'EUG', 'EVV', 'EWN', 'EWR', 'EYW', 'FAI', 'FAR', 'FAT', 'FAY', 'FCA', 'FLG', 'FLL', 'FLO', 'FNT', 'FOE', 'FSD', 'FSM', 'FWA', 'GCC', 'GCK', 'GCN', 'GEG', 'GFK', 'GGG', 'GJT', 'GNV', 'GPT', 'GRB', 'GRI', 'GRK', 'GRR', 'GSO', 'GSP', 'GST', 'GTF', 'GTR', 'GUC', 'GUM', 'HDN', 'HHH', 'HIB', 'HKY', 'HLN', 'HNL', 'HOB', 'HOU', 'HPN', 'HRL', 'HSV', 'HTS', 'HVN', 'IAD', 'IAH', 'ICT', 'IDA', 'ILE', 'ILG', 'ILM', 'IMT', 'IND', 'INL', 'IPL', 'ISN', 'ISO', 'ISP', 'ITH', 'ITO', 'IYK', 'JAC', 'JAN', 'JAX', 'JFK', 'JLN', 'JNU', 'KOA', 'KSM', 'KTN', 'LAN', 'LAR', 'LAS', 'LAW', 'LAX', 'LBB', 'LCH', 'LEX', 'LFT', 'LGA', 'LGB', 'LIH', 'LIT', 'LMT', 'LNK', 'LNY', 'LRD', 'LSE', 'LWB', 'LWS', 'LYH', 'MAF', 'MAZ', 'MBS', 'MCI', 'MCN', 'MCO', 'MDT', 'MDW', 'MEI', 'MEM', 'MFE', 'MFR', 'MGM', 'MHK', 'MHT', 'MIA', 'MIB', 'MKE', 'MKG', 'MKK', 'MLB', 'MLI', 'MLU', 'MMH', 'MOB', 'MOD', 'MOT', 'MQT', 'MRY', 'MSN', 'MSO', 'MSP', 'MSY', 'MTH', 'MTJ', 'MVY', 'MWH', 'MYR', 'OAJ', 'OAK', 'OGG', 'OKC', 'OMA', 'OME', 'ONT', 'ORD', 'ORF', 'ORH', 'OTH', 'OTZ', 'OXR', 'PAH', 'PBI', 'PDX', 'PFN', 'PHF', 'PHL', 'PHX', 'PIA', 'PIE', 'PIH', 'PIT', 'PLN', 'PMD', 'PNS', 'PPG', 'PSC', 'PSE', 'PSG', 'PSP', 'PUB', 'PVD', 'PVU', 'PWM', 'RAP', 'RDD', 'RDM', 'RDR', 'RDU', 'RFD', 'RHI', 'RIC', 'RKS', 'RNO', 'ROA', 'ROC', 'ROP', 'ROR', 'ROW', 'RST', 'RSW', 'SAF', 'SAN', 'SAT', 'SAV', 'SBA', 'SBN', 'SBP', 'SCC', 'SCE', 'SCK', 'SDF', 'SEA', 'SFO', 'SGF', 'SGU', 'SHD', 'SHV', 'SIT', 'SJC', 'SJT', 'SJU', 'SLC', 'SLE', 'SMF', 'SMX', 'SNA', 'SOP', 'SPI', 'SPN', 'SPS', 'SRQ', 'STL', 'STT', 'STX', 'SUN', 'SUX', 'SWF', 'SYR', 'TEX', 'TLH', 'TOL', 'TPA', 'TRI', 'TTN', 'TUL', 'TUP', 'TUS', 'TVC', 'TVL', 'TWF', 'TXK', 'TYR', 'TYS', 'UCA', 'UTM', 'VCT', 'VIS', 'VLD', 'VPS', 'WRG', 'WYS', 'XNA', 'YAK', 'YAP', 'YKM', 'YUM')\n",
       "\tDistance's type is numeric"
      ]
     },
     "execution_count": 7,
     "metadata": {},
     "output_type": "execute_result"
    }
   ],
   "source": [
    "meta"
   ]
  },
  {
   "cell_type": "code",
   "execution_count": 8,
   "id": "0c889318",
   "metadata": {
    "ExecuteTime": {
     "end_time": "2022-05-01T03:39:21.139826Z",
     "start_time": "2022-05-01T03:39:21.124806Z"
    }
   },
   "outputs": [
    {
     "data": {
      "text/plain": [
       "['DepDelay',\n",
       " 'Month',\n",
       " 'DayofMonth',\n",
       " 'DayOfWeek',\n",
       " 'CRSDepTime',\n",
       " 'CRSArrTime',\n",
       " 'UniqueCarrier',\n",
       " 'Origin',\n",
       " 'Dest',\n",
       " 'Distance']"
      ]
     },
     "execution_count": 8,
     "metadata": {},
     "output_type": "execute_result"
    }
   ],
   "source": [
    "meta.names()"
   ]
  },
  {
   "cell_type": "markdown",
   "id": "9c052303",
   "metadata": {},
   "source": [
    "## The Airlines Dataset"
   ]
  },
  {
   "cell_type": "code",
   "execution_count": 9,
   "id": "c3a65725",
   "metadata": {
    "ExecuteTime": {
     "end_time": "2022-05-01T03:39:23.454564Z",
     "start_time": "2022-05-01T03:39:21.140827Z"
    }
   },
   "outputs": [
    {
     "data": {
      "text/html": [
       "<div>\n",
       "<style scoped>\n",
       "    .dataframe tbody tr th:only-of-type {\n",
       "        vertical-align: middle;\n",
       "    }\n",
       "\n",
       "    .dataframe tbody tr th {\n",
       "        vertical-align: top;\n",
       "    }\n",
       "\n",
       "    .dataframe thead th {\n",
       "        text-align: right;\n",
       "    }\n",
       "</style>\n",
       "<table border=\"1\" class=\"dataframe\">\n",
       "  <thead>\n",
       "    <tr style=\"text-align: right;\">\n",
       "      <th></th>\n",
       "      <th>DepDelay</th>\n",
       "      <th>Month</th>\n",
       "      <th>DayofMonth</th>\n",
       "      <th>DayOfWeek</th>\n",
       "      <th>CRSDepTime</th>\n",
       "      <th>CRSArrTime</th>\n",
       "      <th>UniqueCarrier</th>\n",
       "      <th>Origin</th>\n",
       "      <th>Dest</th>\n",
       "      <th>Distance</th>\n",
       "    </tr>\n",
       "  </thead>\n",
       "  <tbody>\n",
       "    <tr>\n",
       "      <th>0</th>\n",
       "      <td>2.0</td>\n",
       "      <td>10.0</td>\n",
       "      <td>30.0</td>\n",
       "      <td>5.0</td>\n",
       "      <td>900.0</td>\n",
       "      <td>1152.0</td>\n",
       "      <td>b'AA'</td>\n",
       "      <td>b'JFK'</td>\n",
       "      <td>b'LAX'</td>\n",
       "      <td>2475.0</td>\n",
       "    </tr>\n",
       "    <tr>\n",
       "      <th>1</th>\n",
       "      <td>12.0</td>\n",
       "      <td>10.0</td>\n",
       "      <td>4.0</td>\n",
       "      <td>7.0</td>\n",
       "      <td>1300.0</td>\n",
       "      <td>1535.0</td>\n",
       "      <td>b'AA'</td>\n",
       "      <td>b'LAX'</td>\n",
       "      <td>b'HNL'</td>\n",
       "      <td>2556.0</td>\n",
       "    </tr>\n",
       "    <tr>\n",
       "      <th>2</th>\n",
       "      <td>8.0</td>\n",
       "      <td>10.0</td>\n",
       "      <td>11.0</td>\n",
       "      <td>7.0</td>\n",
       "      <td>1300.0</td>\n",
       "      <td>1535.0</td>\n",
       "      <td>b'AA'</td>\n",
       "      <td>b'LAX'</td>\n",
       "      <td>b'HNL'</td>\n",
       "      <td>2556.0</td>\n",
       "    </tr>\n",
       "    <tr>\n",
       "      <th>3</th>\n",
       "      <td>-1.0</td>\n",
       "      <td>10.0</td>\n",
       "      <td>29.0</td>\n",
       "      <td>4.0</td>\n",
       "      <td>2310.0</td>\n",
       "      <td>613.0</td>\n",
       "      <td>b'AA'</td>\n",
       "      <td>b'HNL'</td>\n",
       "      <td>b'LAX'</td>\n",
       "      <td>2556.0</td>\n",
       "    </tr>\n",
       "    <tr>\n",
       "      <th>4</th>\n",
       "      <td>0.0</td>\n",
       "      <td>10.0</td>\n",
       "      <td>3.0</td>\n",
       "      <td>6.0</td>\n",
       "      <td>2035.0</td>\n",
       "      <td>2110.0</td>\n",
       "      <td>b'AA'</td>\n",
       "      <td>b'OGG'</td>\n",
       "      <td>b'HNL'</td>\n",
       "      <td>100.0</td>\n",
       "    </tr>\n",
       "    <tr>\n",
       "      <th>...</th>\n",
       "      <td>...</td>\n",
       "      <td>...</td>\n",
       "      <td>...</td>\n",
       "      <td>...</td>\n",
       "      <td>...</td>\n",
       "      <td>...</td>\n",
       "      <td>...</td>\n",
       "      <td>...</td>\n",
       "      <td>...</td>\n",
       "      <td>...</td>\n",
       "    </tr>\n",
       "    <tr>\n",
       "      <th>9999995</th>\n",
       "      <td>-6.0</td>\n",
       "      <td>7.0</td>\n",
       "      <td>31.0</td>\n",
       "      <td>3.0</td>\n",
       "      <td>735.0</td>\n",
       "      <td>858.0</td>\n",
       "      <td>b'YV'</td>\n",
       "      <td>b'PHX'</td>\n",
       "      <td>b'BUR'</td>\n",
       "      <td>369.0</td>\n",
       "    </tr>\n",
       "    <tr>\n",
       "      <th>9999996</th>\n",
       "      <td>2.0</td>\n",
       "      <td>7.0</td>\n",
       "      <td>31.0</td>\n",
       "      <td>3.0</td>\n",
       "      <td>855.0</td>\n",
       "      <td>1349.0</td>\n",
       "      <td>b'YV'</td>\n",
       "      <td>b'PHX'</td>\n",
       "      <td>b'DSM'</td>\n",
       "      <td>1149.0</td>\n",
       "    </tr>\n",
       "    <tr>\n",
       "      <th>9999997</th>\n",
       "      <td>-6.0</td>\n",
       "      <td>7.0</td>\n",
       "      <td>31.0</td>\n",
       "      <td>3.0</td>\n",
       "      <td>1050.0</td>\n",
       "      <td>1332.0</td>\n",
       "      <td>b'YV'</td>\n",
       "      <td>b'PNS'</td>\n",
       "      <td>b'CLT'</td>\n",
       "      <td>488.0</td>\n",
       "    </tr>\n",
       "    <tr>\n",
       "      <th>9999998</th>\n",
       "      <td>21.0</td>\n",
       "      <td>7.0</td>\n",
       "      <td>31.0</td>\n",
       "      <td>3.0</td>\n",
       "      <td>1721.0</td>\n",
       "      <td>1854.0</td>\n",
       "      <td>b'YV'</td>\n",
       "      <td>b'PWM'</td>\n",
       "      <td>b'ORD'</td>\n",
       "      <td>900.0</td>\n",
       "    </tr>\n",
       "    <tr>\n",
       "      <th>9999999</th>\n",
       "      <td>-10.0</td>\n",
       "      <td>7.0</td>\n",
       "      <td>31.0</td>\n",
       "      <td>3.0</td>\n",
       "      <td>800.0</td>\n",
       "      <td>912.0</td>\n",
       "      <td>b'YV'</td>\n",
       "      <td>b'TUS'</td>\n",
       "      <td>b'PHX'</td>\n",
       "      <td>110.0</td>\n",
       "    </tr>\n",
       "  </tbody>\n",
       "</table>\n",
       "<p>10000000 rows × 10 columns</p>\n",
       "</div>"
      ],
      "text/plain": [
       "         DepDelay  Month  DayofMonth  DayOfWeek  CRSDepTime  CRSArrTime  \\\n",
       "0             2.0   10.0        30.0        5.0       900.0      1152.0   \n",
       "1            12.0   10.0         4.0        7.0      1300.0      1535.0   \n",
       "2             8.0   10.0        11.0        7.0      1300.0      1535.0   \n",
       "3            -1.0   10.0        29.0        4.0      2310.0       613.0   \n",
       "4             0.0   10.0         3.0        6.0      2035.0      2110.0   \n",
       "...           ...    ...         ...        ...         ...         ...   \n",
       "9999995      -6.0    7.0        31.0        3.0       735.0       858.0   \n",
       "9999996       2.0    7.0        31.0        3.0       855.0      1349.0   \n",
       "9999997      -6.0    7.0        31.0        3.0      1050.0      1332.0   \n",
       "9999998      21.0    7.0        31.0        3.0      1721.0      1854.0   \n",
       "9999999     -10.0    7.0        31.0        3.0       800.0       912.0   \n",
       "\n",
       "        UniqueCarrier  Origin    Dest  Distance  \n",
       "0               b'AA'  b'JFK'  b'LAX'    2475.0  \n",
       "1               b'AA'  b'LAX'  b'HNL'    2556.0  \n",
       "2               b'AA'  b'LAX'  b'HNL'    2556.0  \n",
       "3               b'AA'  b'HNL'  b'LAX'    2556.0  \n",
       "4               b'AA'  b'OGG'  b'HNL'     100.0  \n",
       "...               ...     ...     ...       ...  \n",
       "9999995         b'YV'  b'PHX'  b'BUR'     369.0  \n",
       "9999996         b'YV'  b'PHX'  b'DSM'    1149.0  \n",
       "9999997         b'YV'  b'PNS'  b'CLT'     488.0  \n",
       "9999998         b'YV'  b'PWM'  b'ORD'     900.0  \n",
       "9999999         b'YV'  b'TUS'  b'PHX'     110.0  \n",
       "\n",
       "[10000000 rows x 10 columns]"
      ]
     },
     "execution_count": 9,
     "metadata": {},
     "output_type": "execute_result"
    }
   ],
   "source": [
    "Airlines_DepDelay_10M = pd.DataFrame(data,columns=meta.names())\n",
    "Airlines_DepDelay_10M"
   ]
  },
  {
   "cell_type": "code",
   "execution_count": 10,
   "id": "d10433cf",
   "metadata": {
    "ExecuteTime": {
     "end_time": "2022-05-01T03:39:23.500449Z",
     "start_time": "2022-05-01T03:39:23.458558Z"
    }
   },
   "outputs": [
    {
     "name": "stdout",
     "output_type": "stream",
     "text": [
      "<class 'pandas.core.frame.DataFrame'>\n",
      "RangeIndex: 10000000 entries, 0 to 9999999\n",
      "Data columns (total 10 columns):\n",
      " #   Column         Dtype  \n",
      "---  ------         -----  \n",
      " 0   DepDelay       float64\n",
      " 1   Month          float64\n",
      " 2   DayofMonth     float64\n",
      " 3   DayOfWeek      float64\n",
      " 4   CRSDepTime     float64\n",
      " 5   CRSArrTime     float64\n",
      " 6   UniqueCarrier  object \n",
      " 7   Origin         object \n",
      " 8   Dest           object \n",
      " 9   Distance       float64\n",
      "dtypes: float64(7), object(3)\n",
      "memory usage: 762.9+ MB\n"
     ]
    }
   ],
   "source": [
    "Airlines_DepDelay_10M.info()"
   ]
  }
 ],
 "metadata": {
  "kernelspec": {
   "display_name": "Python 3 (ipykernel)",
   "language": "python",
   "name": "python3"
  },
  "language_info": {
   "codemirror_mode": {
    "name": "ipython",
    "version": 3
   },
   "file_extension": ".py",
   "mimetype": "text/x-python",
   "name": "python",
   "nbconvert_exporter": "python",
   "pygments_lexer": "ipython3",
   "version": "3.9.7"
  }
 },
 "nbformat": 4,
 "nbformat_minor": 5
}
